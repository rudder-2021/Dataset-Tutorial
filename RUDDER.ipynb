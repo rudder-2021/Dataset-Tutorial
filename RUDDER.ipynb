{
 "cells": [
  {
   "cell_type": "markdown",
   "metadata": {},
   "source": [
    "<img src=\"banner.png\" height = \"200\">\n",
    "We demonstrate the multi lingual nature of the RUDDER dataset and how to use them for research purposes in this tutorial. The complete description is available on the webpage <a href=\"https://rudder-2021.github.io/\">here</a>\n"
   ]
  },
  {
   "cell_type": "markdown",
   "metadata": {},
   "source": [
    "We first begin with importing the required packages. <br/>\n",
    "**Note**: We demonstrate only how to use the features extracted and not how to extract them."
   ]
  },
  {
   "cell_type": "code",
   "execution_count": 1,
   "metadata": {},
   "outputs": [],
   "source": [
    "import pickle\n",
    "import json\n",
    "import numpy as np\n",
    "import seaborn as sn\n",
    "import pandas as pd\n",
    "import matplotlib.pyplot as plt\n",
    "import random"
   ]
  },
  {
   "cell_type": "markdown",
   "metadata": {},
   "source": [
    "The dataset contains captions in multiple Indian Languages namely, Marathi, Hindi, Telugu, Tamil, Kannada and Malayalam. Look at the below to load the captions and see the captions in various languages."
   ]
  },
  {
   "cell_type": "code",
   "execution_count": 2,
   "metadata": {},
   "outputs": [
    {
     "name": "stdout",
     "output_type": "stream",
     "text": [
      "0012a8f4a2.txt HINDI बोतलबंद पानी पर प्रकाश\n",
      "0012a8f4a2.txt KANNADA ಬಾಟಲ್ ನೀರಿನ ಮೇಲೆ ಬೆಳಕು\n",
      "0012a8f4a2.txt MALAYALAM കുപ്പിവെള്ളത്തിൽ വെളിച്ചം\n",
      "0012a8f4a2.txt MARATHI लेजरचा प्रकाश बाटलीच्या पाण्यावर सोडा\n",
      "0012a8f4a2.txt TAMIL பாட்டில் தண்ணீரில் ஒளி\n"
     ]
    }
   ],
   "source": [
    "# Load captions for different language\n",
    "with open('rudder_captions.json') as f:\n",
    "    data = json.load(f)\n",
    "\n",
    "cap_id, captions = random.choice(list(data.items()))\n",
    "\n",
    "for language in captions:\n",
    "    print(cap_id, language, captions[language])"
   ]
  },
  {
   "cell_type": "markdown",
   "metadata": {},
   "source": [
    "As described in the website and in the arxiv submission. Not all videos are present in all the languages. We demonstrate below the numbers of videos that have audios in multiple languages. <br/>\n",
    "**Note**: This dataset is not just bilingual, it is just for the ease we show the numbers for two languages. The code can be extended to visualise for 3 or 4 languages."
   ]
  },
  {
   "cell_type": "code",
   "execution_count": null,
   "metadata": {},
   "outputs": [],
   "source": [
    "languages = ['HINDI', 'MARATHI', 'TAMIL', 'TELUGU']\n",
    "language_count = {}\n",
    "for language in languages:\n",
    "    language_count[language] = []\n",
    "for cap_id in data:\n",
    "    for language in languages:\n",
    "        if language in data[cap_id]:\n",
    "            language_count[language].append(cap_id)\n",
    "language_intersect = np.empty([len(languages), len(languages)], dtype = int)\n",
    "for idx, language in enumerate(languages):\n",
    "    for idx2, language2 in enumerate(languages):\n",
    "        language_intersect[idx][idx2] = len(np.intersect1d(language_count[language], language_count[language2]))\n",
    "        \n",
    "plot_data = pd.DataFrame(language_intersect, index = languages,\n",
    "                  columns = languages)\n",
    "plt.figure(figsize = (10,7))\n",
    "sn.heatmap(plot_data, annot=True, fmt='d')"
   ]
  },
  {
   "cell_type": "markdown",
   "metadata": {},
   "source": [
    "We have covered the details and description of the dataset till now. We now proceed to demonstrate how to use the features extracted from various pre-trained models publicly available. We release the features extracted on our dataset for public use.\n",
    "\n",
    "The following features for our dataset are provided:\n",
    "\n",
    "| **S.no** \t| **Feature Type** \t|  **Feature Name**  \t|                     **Pre-trained model used**                     \t|\n",
    "|:----:\t|:------------:\t|:--------------:\t|:--------------------------------------------------------------:\t|\n",
    "|   1  \t|     Video    \t|       I3D      \t|   <a href=\"https://github.com/piergiaj/pytorch-i3d\">link</a>   \t|\n",
    "|   2  \t|     Video    \t|   RGB Resnext  \t|                                                                \t|\n",
    "|   3  \t|     Video    \t|    RGB Senet   \t|                                                                \t|\n",
    "|   4  \t|     Video    \t|  Action r2p1d  \t| <a href=\"https://github.com/moabitcoin/ig65m-pytorch\">link</a> \t|\n",
    "|   5  \t|     Video    \t| Scene densenet \t|                                                                \t|\n",
    "|   6  \t|     Audio    \t|  Audio VGGish  \t|  <a href=\"https://github.com/harritaylor/torchvggish\">link</a> \t|\n",
    "|   7  \t|    Caption   \t|      GloVe     \t|   <a href=\"https://nlp.stanford.edu/projects/glove/\">link</a>  \t|"
   ]
  },
  {
   "cell_type": "code",
   "execution_count": null,
   "metadata": {},
   "outputs": [],
   "source": [
    "# Load I3d features()\n",
    "infile = open('feats/aggregated_i3d_25fps_256px_stride25_offset0_inner_stride1/i3d-avg.pickle','rb')\n",
    "data = pickle.load(infile)\n",
    "infile.close()\n",
    "\n",
    "vid_id, feat = random.choice(list(data.items()))\n",
    "\n",
    "print(\"I3D\", feat.shape)"
   ]
  },
  {
   "cell_type": "code",
   "execution_count": null,
   "metadata": {},
   "outputs": [],
   "source": [
    "# Load RGB features(Resnext)\n",
    "infile = open('feats/aggregated_imagenet_25fps_256px_stride1_offset0/resnext101_32x48d-avg.pickle','rb')\n",
    "data = pickle.load(infile)\n",
    "infile.close()\n",
    "\n",
    "vid_id, feat = random.choice(list(data.items()))\n",
    "\n",
    "print(\"Resnext\", feat.shape)"
   ]
  },
  {
   "cell_type": "code",
   "execution_count": null,
   "metadata": {},
   "outputs": [],
   "source": [
    "# Load RGB features(Senet)\n",
    "infile = open('feats/aggregated_imagenet_25fps_256px_stride1_offset0/senet154-avg.pickle','rb')\n",
    "data = pickle.load(infile)\n",
    "infile.close()\n",
    "\n",
    "vid_id, feat = random.choice(list(data.items()))\n",
    "\n",
    "print(\"SENET\", feat.shape)"
   ]
  },
  {
   "cell_type": "code",
   "execution_count": null,
   "metadata": {},
   "outputs": [],
   "source": [
    "# Load Action features(r2p1d)\n",
    "infile = open('feats/aggregated_r2p1d_30fps_256px_stride32_offset0_inner_stride1/r2p1d-ig65m-avg.pickle','rb')\n",
    "data = pickle.load(infile)\n",
    "infile.close()\n",
    "\n",
    "vid_id, feat = random.choice(list(data.items()))\n",
    "\n",
    "print(\"R2p1D\", feat.shape)"
   ]
  },
  {
   "cell_type": "code",
   "execution_count": null,
   "metadata": {},
   "outputs": [],
   "source": [
    "# Load Scene features(Densenet)\n",
    "infile = open('feats/aggregated_scene_25fps_256px_stride1_offset0/densenet161-avg.pickle','rb')\n",
    "data = pickle.load(infile)\n",
    "infile.close()\n",
    "\n",
    "vid_id, feat = random.choice(list(data.items()))\n",
    "\n",
    "print(\"Densenet\", feat.shape)"
   ]
  },
  {
   "cell_type": "code",
   "execution_count": 5,
   "metadata": {},
   "outputs": [],
   "source": [
    "# Load different audio features\n",
    "languages = ['HINDI', 'MARATHI', 'TAMIL', 'TELUGU']\n",
    "\n",
    "for language in languages:\n",
    "    infile = open('feats/aggregated_audio_feats/' + language + '_TFT.pickle','rb')\n",
    "    data = pickle.load(infile)\n",
    "    infile.close()"
   ]
  },
  {
   "cell_type": "markdown",
   "metadata": {},
   "source": [
    "**References:**\n",
    "blah blah blah"
   ]
  },
  {
   "cell_type": "markdown",
   "metadata": {},
   "source": [
    "**For any communication regarding RUDDER**<br/>\n",
    "**Contact**<br/>\n",
    "Jayaprakash A [jayaprakash at cse dot iitb dot ac dot in] or<br/>\n",
    "Abhishek [abhishek at cse dot iitb dot ac dot in]"
   ]
  }
 ],
 "metadata": {
  "kernelspec": {
   "display_name": "Python 3",
   "language": "python",
   "name": "python3"
  },
  "language_info": {
   "codemirror_mode": {
    "name": "ipython",
    "version": 3
   },
   "file_extension": ".py",
   "mimetype": "text/x-python",
   "name": "python",
   "nbconvert_exporter": "python",
   "pygments_lexer": "ipython3",
   "version": "3.6.11"
  }
 },
 "nbformat": 4,
 "nbformat_minor": 4
}
